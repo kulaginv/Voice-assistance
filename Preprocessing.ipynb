{
 "cells": [
  {
   "cell_type": "code",
   "execution_count": 3,
   "id": "53e7c8bc",
   "metadata": {},
   "outputs": [],
   "source": [
    "import librosa\n",
    "import numpy as np\n",
    "import pandas as pd\n",
    "import os\n",
    "from tqdm import tqdm\n",
    "import warnings\n",
    "warnings.filterwarnings(\"ignore\")"
   ]
  },
  {
   "cell_type": "code",
   "execution_count": 4,
   "id": "80e1ba74",
   "metadata": {},
   "outputs": [],
   "source": [
    "def extract_feature(file_name):\n",
    "    X, sample_rate = librosa.core.load(file_name)\n",
    "    result = np.array([])\n",
    "    mel = np.mean(librosa.feature.melspectrogram(X, sr=sample_rate).T,axis=0)\n",
    "    result = np.hstack((result, mel))\n",
    "    return result"
   ]
  },
  {
   "cell_type": "code",
   "execution_count": 16,
   "id": "46054a56",
   "metadata": {
    "scrolled": false
   },
   "outputs": [
    {
     "data": {
      "text/html": [
       "<div>\n",
       "<style scoped>\n",
       "    .dataframe tbody tr th:only-of-type {\n",
       "        vertical-align: middle;\n",
       "    }\n",
       "\n",
       "    .dataframe tbody tr th {\n",
       "        vertical-align: top;\n",
       "    }\n",
       "\n",
       "    .dataframe thead th {\n",
       "        text-align: right;\n",
       "    }\n",
       "</style>\n",
       "<table border=\"1\" class=\"dataframe\">\n",
       "  <thead>\n",
       "    <tr style=\"text-align: right;\">\n",
       "      <th></th>\n",
       "      <th>Filename</th>\n",
       "      <th>Sex</th>\n",
       "    </tr>\n",
       "  </thead>\n",
       "  <tbody>\n",
       "    <tr>\n",
       "      <th>0</th>\n",
       "      <td>5d1f7e43366513a1d0a6ec5640c3dc24</td>\n",
       "      <td>1</td>\n",
       "    </tr>\n",
       "    <tr>\n",
       "      <th>1</th>\n",
       "      <td>9a701a4536a05b6610a590a9fe702ed8</td>\n",
       "      <td>1</td>\n",
       "    </tr>\n",
       "    <tr>\n",
       "      <th>2</th>\n",
       "      <td>cad0b8547008d1524c1a0e5fd51f9908</td>\n",
       "      <td>1</td>\n",
       "    </tr>\n",
       "    <tr>\n",
       "      <th>3</th>\n",
       "      <td>4bbe607e7dc95460e2cc1a6ee5f4dfa6</td>\n",
       "      <td>0</td>\n",
       "    </tr>\n",
       "    <tr>\n",
       "      <th>4</th>\n",
       "      <td>30fb32cba90b34af26f3f14f5d636805</td>\n",
       "      <td>0</td>\n",
       "    </tr>\n",
       "  </tbody>\n",
       "</table>\n",
       "</div>"
      ],
      "text/plain": [
       "                           Filename  Sex\n",
       "0  5d1f7e43366513a1d0a6ec5640c3dc24    1\n",
       "1  9a701a4536a05b6610a590a9fe702ed8    1\n",
       "2  cad0b8547008d1524c1a0e5fd51f9908    1\n",
       "3  4bbe607e7dc95460e2cc1a6ee5f4dfa6    0\n",
       "4  30fb32cba90b34af26f3f14f5d636805    0"
      ]
     },
     "execution_count": 16,
     "metadata": {},
     "output_type": "execute_result"
    }
   ],
   "source": [
    "df = pd.read_table('targets.tsv')\n",
    "df.head()"
   ]
  },
  {
   "cell_type": "code",
   "execution_count": 23,
   "id": "bda29cef",
   "metadata": {},
   "outputs": [
    {
     "data": {
      "text/plain": [
       "13936"
      ]
     },
     "execution_count": 23,
     "metadata": {},
     "output_type": "execute_result"
    }
   ],
   "source": [
    "len(df)"
   ]
  },
  {
   "cell_type": "code",
   "execution_count": 24,
   "id": "b749ce2b",
   "metadata": {
    "scrolled": true
   },
   "outputs": [
    {
     "data": {
      "text/plain": [
       "0    7620\n",
       "1    6316\n",
       "Name: Sex, dtype: int64"
      ]
     },
     "execution_count": 24,
     "metadata": {},
     "output_type": "execute_result"
    }
   ],
   "source": [
    "df['Sex'].value_counts()"
   ]
  },
  {
   "cell_type": "code",
   "execution_count": 25,
   "id": "7ff8d6ec",
   "metadata": {},
   "outputs": [
    {
     "data": {
      "text/plain": [
       "(13935, 'f8ef0441ebf79b817df790bb72d667c4', 0)"
      ]
     },
     "execution_count": 25,
     "metadata": {},
     "output_type": "execute_result"
    }
   ],
   "source": [
    "for i, (filename,sex) in enumerate(zip(df['Filename'], df['Sex'])):\n",
    "    pass"
   ]
  },
  {
   "cell_type": "code",
   "execution_count": 38,
   "id": "e3266b93",
   "metadata": {},
   "outputs": [],
   "source": [
    "def load_train_data(vector_length=128):\n",
    "    if not os.path.isdir(\"train_results\"):\n",
    "        os.mkdir(\"train_results\")\n",
    "    if os.path.isfile(\"train_results/features.npy\") and os.path.isfile(\"train_results/labels.npy\"):\n",
    "        X = np.load(\"train_results/features.npy\")\n",
    "        y = np.load(\"train_results/labels.npy\")\n",
    "        return X, y\n",
    "    n_samples = len(df)\n",
    "    X = np.zeros((n_samples, vector_length))\n",
    "    y = np.zeros((n_samples, 1))\n",
    "    for i, (filename,sex) in tqdm(enumerate(zip(df['Filename'], df['Sex'])), \"Loading data\", total=n_samples):\n",
    "        features = extract_feature('train/'+filename+'.wav')\n",
    "        X[i] = features\n",
    "        y[i] = sex\n",
    "    np.save(\"train_results/features\", X)\n",
    "    np.save(\"train_results/labels\", y)\n",
    "    return X, y"
   ]
  },
  {
   "cell_type": "code",
   "execution_count": 44,
   "id": "648d8749",
   "metadata": {
    "scrolled": true
   },
   "outputs": [
    {
     "data": {
      "text/plain": [
       "((13936, 128), (13936, 1))"
      ]
     },
     "execution_count": 44,
     "metadata": {},
     "output_type": "execute_result"
    }
   ],
   "source": [
    "X, y = load_train_data()"
   ]
  },
  {
   "cell_type": "code",
   "execution_count": 58,
   "id": "d43ace02",
   "metadata": {},
   "outputs": [],
   "source": [
    "from sklearn.model_selection import train_test_split"
   ]
  },
  {
   "cell_type": "code",
   "execution_count": 59,
   "id": "579bc56b",
   "metadata": {},
   "outputs": [],
   "source": [
    "def split_data(X, y, test_size=0.1, valid_size=0.1):\n",
    "    # split training set and testing set\n",
    "    X_train, X_test, y_train, y_test = train_test_split(X, y, test_size=test_size, random_state=7)\n",
    "    # split training set and validation set\n",
    "    X_train, X_valid, y_train, y_valid = train_test_split(X_train, y_train, test_size=valid_size, random_state=7)\n",
    "    # return a dictionary of values\n",
    "    return {\n",
    "        \"X_train\": X_train,\n",
    "        \"X_valid\": X_valid,\n",
    "        \"X_test\": X_test,\n",
    "        \"y_train\": y_train,\n",
    "        \"y_valid\": y_valid,\n",
    "        \"y_test\": y_test\n",
    "    }"
   ]
  },
  {
   "cell_type": "code",
   "execution_count": 60,
   "id": "327c82d0",
   "metadata": {},
   "outputs": [],
   "source": [
    "X, y = load_train_data()\n",
    "data = split_data(X, y, test_size=0.2, valid_size=0.1)"
   ]
  },
  {
   "cell_type": "code",
   "execution_count": 54,
   "id": "93fdf575",
   "metadata": {},
   "outputs": [],
   "source": [
    "from tensorflow.keras.models import Sequential\n",
    "from tensorflow.keras.layers import Dense, LSTM, Dropout"
   ]
  },
  {
   "cell_type": "code",
   "execution_count": 55,
   "id": "5a1fbc08",
   "metadata": {},
   "outputs": [],
   "source": [
    "def init_model():\n",
    "    model = Sequential()\n",
    "    model.add(Dense(256, input_shape=(128,)))\n",
    "    model.add(Dense(256, activation=\"relu\"))\n",
    "    model.add(Dropout(0.25))\n",
    "    model.add(Dense(128, activation=\"relu\"))\n",
    "    model.add(Dropout(0.25))\n",
    "    model.add(Dense(128, activation=\"relu\"))\n",
    "    model.add(Dropout(0.25))\n",
    "    model.add(Dense(64, activation=\"relu\"))\n",
    "    model.add(Dropout(0.25))\n",
    "    model.add(Dense(1, activation=\"sigmoid\"))\n",
    "    model.compile(loss=\"binary_crossentropy\", metrics=[\"accuracy\"], optimizer=\"adam\")\n",
    "    model.summary()\n",
    "    return model"
   ]
  },
  {
   "cell_type": "code",
   "execution_count": 56,
   "id": "a46a3104",
   "metadata": {},
   "outputs": [
    {
     "name": "stdout",
     "output_type": "stream",
     "text": [
      "Model: \"sequential\"\n",
      "_________________________________________________________________\n",
      " Layer (type)                Output Shape              Param #   \n",
      "=================================================================\n",
      " dense (Dense)               (None, 256)               33024     \n",
      "                                                                 \n",
      " dense_1 (Dense)             (None, 256)               65792     \n",
      "                                                                 \n",
      " dropout (Dropout)           (None, 256)               0         \n",
      "                                                                 \n",
      " dense_2 (Dense)             (None, 128)               32896     \n",
      "                                                                 \n",
      " dropout_1 (Dropout)         (None, 128)               0         \n",
      "                                                                 \n",
      " dense_3 (Dense)             (None, 128)               16512     \n",
      "                                                                 \n",
      " dropout_2 (Dropout)         (None, 128)               0         \n",
      "                                                                 \n",
      " dense_4 (Dense)             (None, 64)                8256      \n",
      "                                                                 \n",
      " dropout_3 (Dropout)         (None, 64)                0         \n",
      "                                                                 \n",
      " dense_5 (Dense)             (None, 1)                 65        \n",
      "                                                                 \n",
      "=================================================================\n",
      "Total params: 156,545\n",
      "Trainable params: 156,545\n",
      "Non-trainable params: 0\n",
      "_________________________________________________________________\n"
     ]
    }
   ],
   "source": [
    "model = init_model()"
   ]
  },
  {
   "cell_type": "code",
   "execution_count": 57,
   "id": "562f6ba7",
   "metadata": {},
   "outputs": [],
   "source": [
    "tensorboard = TensorBoard(log_dir=\"logs\")\n",
    "early_stopping = EarlyStopping(mode=\"min\", patience=5, restore_best_weights=True)\n",
    "\n",
    "batch_size = 64\n",
    "epochs = 100"
   ]
  },
  {
   "cell_type": "code",
   "execution_count": 61,
   "id": "a6f16f08",
   "metadata": {},
   "outputs": [
    {
     "name": "stdout",
     "output_type": "stream",
     "text": [
      "Epoch 1/100\n",
      "157/157 [==============================] - 2s 6ms/step - loss: 0.4189 - accuracy: 0.8597 - val_loss: 0.2470 - val_accuracy: 0.9094\n",
      "Epoch 2/100\n",
      "157/157 [==============================] - 1s 5ms/step - loss: 0.2556 - accuracy: 0.9192 - val_loss: 0.1874 - val_accuracy: 0.9435\n",
      "Epoch 3/100\n",
      "157/157 [==============================] - 1s 4ms/step - loss: 0.2077 - accuracy: 0.9331 - val_loss: 0.1747 - val_accuracy: 0.9390\n",
      "Epoch 4/100\n",
      "157/157 [==============================] - 1s 4ms/step - loss: 0.1828 - accuracy: 0.9390 - val_loss: 0.1549 - val_accuracy: 0.9525\n",
      "Epoch 5/100\n",
      "157/157 [==============================] - 1s 4ms/step - loss: 0.1721 - accuracy: 0.9449 - val_loss: 0.1599 - val_accuracy: 0.9462\n",
      "Epoch 6/100\n",
      "157/157 [==============================] - 1s 5ms/step - loss: 0.1651 - accuracy: 0.9433 - val_loss: 0.1658 - val_accuracy: 0.9498\n",
      "Epoch 7/100\n",
      "157/157 [==============================] - 1s 4ms/step - loss: 0.1495 - accuracy: 0.9488 - val_loss: 0.1573 - val_accuracy: 0.9489\n",
      "Epoch 8/100\n",
      "157/157 [==============================] - 1s 5ms/step - loss: 0.1530 - accuracy: 0.9492 - val_loss: 0.1302 - val_accuracy: 0.9507\n",
      "Epoch 9/100\n",
      "157/157 [==============================] - 1s 4ms/step - loss: 0.1402 - accuracy: 0.9562 - val_loss: 0.1274 - val_accuracy: 0.9570\n",
      "Epoch 10/100\n",
      "157/157 [==============================] - 1s 5ms/step - loss: 0.1327 - accuracy: 0.9542 - val_loss: 0.1212 - val_accuracy: 0.9596\n",
      "Epoch 11/100\n",
      "157/157 [==============================] - 1s 4ms/step - loss: 0.1268 - accuracy: 0.9578 - val_loss: 0.1214 - val_accuracy: 0.9552\n",
      "Epoch 12/100\n",
      "157/157 [==============================] - 1s 4ms/step - loss: 0.1255 - accuracy: 0.9561 - val_loss: 0.1148 - val_accuracy: 0.9596\n",
      "Epoch 13/100\n",
      "157/157 [==============================] - 1s 5ms/step - loss: 0.1201 - accuracy: 0.9596 - val_loss: 0.1192 - val_accuracy: 0.9623\n",
      "Epoch 14/100\n",
      "157/157 [==============================] - 1s 4ms/step - loss: 0.1174 - accuracy: 0.9601 - val_loss: 0.1214 - val_accuracy: 0.9534\n",
      "Epoch 15/100\n",
      "157/157 [==============================] - 1s 5ms/step - loss: 0.1046 - accuracy: 0.9632 - val_loss: 0.1028 - val_accuracy: 0.9641\n",
      "Epoch 16/100\n",
      "157/157 [==============================] - 1s 4ms/step - loss: 0.1034 - accuracy: 0.9631 - val_loss: 0.1236 - val_accuracy: 0.9641\n",
      "Epoch 17/100\n",
      "157/157 [==============================] - 1s 4ms/step - loss: 0.0970 - accuracy: 0.9673 - val_loss: 0.1170 - val_accuracy: 0.9623\n",
      "Epoch 18/100\n",
      "157/157 [==============================] - 1s 5ms/step - loss: 0.0993 - accuracy: 0.9670 - val_loss: 0.1051 - val_accuracy: 0.9605\n",
      "Epoch 19/100\n",
      "157/157 [==============================] - 1s 4ms/step - loss: 0.0889 - accuracy: 0.9676 - val_loss: 0.0946 - val_accuracy: 0.9623\n",
      "Epoch 20/100\n",
      "157/157 [==============================] - 1s 4ms/step - loss: 0.0903 - accuracy: 0.9680 - val_loss: 0.1075 - val_accuracy: 0.9659\n",
      "Epoch 21/100\n",
      "157/157 [==============================] - 1s 4ms/step - loss: 0.0835 - accuracy: 0.9697 - val_loss: 0.1091 - val_accuracy: 0.9587\n",
      "Epoch 22/100\n",
      "157/157 [==============================] - 1s 4ms/step - loss: 0.0804 - accuracy: 0.9707 - val_loss: 0.0966 - val_accuracy: 0.9650\n",
      "Epoch 23/100\n",
      "157/157 [==============================] - 1s 4ms/step - loss: 0.0842 - accuracy: 0.9710 - val_loss: 0.1030 - val_accuracy: 0.9641\n",
      "Epoch 24/100\n",
      "157/157 [==============================] - 1s 4ms/step - loss: 0.0913 - accuracy: 0.9674 - val_loss: 0.1137 - val_accuracy: 0.9570\n"
     ]
    },
    {
     "data": {
      "text/plain": [
       "<keras.callbacks.History at 0x1bc51699df0>"
      ]
     },
     "execution_count": 61,
     "metadata": {},
     "output_type": "execute_result"
    }
   ],
   "source": [
    "model.fit(data[\"X_train\"], data[\"y_train\"], epochs=epochs, batch_size=batch_size, validation_data=(data[\"X_valid\"], data[\"y_valid\"]),\n",
    "          callbacks=[tensorboard, early_stopping])"
   ]
  },
  {
   "cell_type": "code",
   "execution_count": 62,
   "id": "32f3f751",
   "metadata": {},
   "outputs": [],
   "source": [
    "model.save(\"train_results/model.h5\")"
   ]
  },
  {
   "cell_type": "code",
   "execution_count": 63,
   "id": "62fc5af9",
   "metadata": {},
   "outputs": [
    {
     "name": "stdout",
     "output_type": "stream",
     "text": [
      "Evaluating the model using 2788 samples...\n",
      "Loss: 0.1091\n",
      "Accuracy: 96.16%\n"
     ]
    }
   ],
   "source": [
    "print(f\"Evaluating the model using {len(data['X_test'])} samples...\")\n",
    "loss, accuracy = model.evaluate(data[\"X_test\"], data[\"y_test\"], verbose=0)\n",
    "print(f\"Loss: {loss:.4f}\")\n",
    "print(f\"Accuracy: {accuracy*100:.2f}%\")"
   ]
  },
  {
   "cell_type": "code",
   "execution_count": 76,
   "id": "5b9cd005",
   "metadata": {},
   "outputs": [
    {
     "name": "stdout",
     "output_type": "stream",
     "text": [
      "Result: female\n",
      "Probabilities::: Male: 0.00%    Female: 100.00%\n"
     ]
    }
   ],
   "source": [
    "features = extract_feature('train/00ceab975f6c7eceaa2b96d6e215b582.wav').reshape(1, -1)\n",
    "female_prob = model.predict(features)[0][0]\n",
    "male_prob = 1 - female_prob\n",
    "gender = \"male\" if male_prob > female_prob else \"female\"\n",
    "print(\"Result:\", gender)\n",
    "print(f\"Probabilities::: Male: {male_prob*100:.2f}%    Female: {female_prob*100:.2f}%\")"
   ]
  },
  {
   "cell_type": "code",
   "execution_count": null,
   "id": "019d2317",
   "metadata": {},
   "outputs": [],
   "source": []
  },
  {
   "cell_type": "code",
   "execution_count": 1,
   "id": "7f9c08b7",
   "metadata": {},
   "outputs": [],
   "source": [
    "from sklearn.model_selection import train_test_split\n",
    "def split_data(X, y, test_size=0.1, valid_size=0.1):\n",
    "    # split training set and testing set\n",
    "    X_train, X_test, y_train, y_test = train_test_split(X, y, test_size=test_size, random_state=7)\n",
    "    # split training set and validation set\n",
    "    X_train, X_valid, y_train, y_valid = train_test_split(X_train, y_train, test_size=valid_size, random_state=7)\n",
    "    # return a dictionary of values\n",
    "    return {\n",
    "        \"X_train\": X_train,\n",
    "        \"X_valid\": X_valid,\n",
    "        \"X_test\": X_test,\n",
    "        \"y_train\": y_train,\n",
    "        \"y_valid\": y_valid,\n",
    "        \"y_test\": y_test\n",
    "    }"
   ]
  },
  {
   "cell_type": "code",
   "execution_count": 4,
   "id": "b10abce3",
   "metadata": {},
   "outputs": [],
   "source": [
    "X = np.load(\"data/features.npy\")\n",
    "y = np.load(\"data/labels.npy\")\n",
    "data = split_data(X, y, test_size=0.2, valid_size=0.1)"
   ]
  },
  {
   "cell_type": "code",
   "execution_count": 5,
   "id": "f9b07d35",
   "metadata": {},
   "outputs": [],
   "source": [
    "from tensorflow.keras.models import Sequential\n",
    "from tensorflow.keras.layers import Dense, LSTM, Dropout"
   ]
  },
  {
   "cell_type": "code",
   "execution_count": 6,
   "id": "42af8eb1",
   "metadata": {},
   "outputs": [
    {
     "name": "stdout",
     "output_type": "stream",
     "text": [
      "Model: \"sequential\"\n",
      "_________________________________________________________________\n",
      " Layer (type)                Output Shape              Param #   \n",
      "=================================================================\n",
      " dense (Dense)               (None, 256)               33024     \n",
      "                                                                 \n",
      " dense_1 (Dense)             (None, 256)               65792     \n",
      "                                                                 \n",
      " dropout (Dropout)           (None, 256)               0         \n",
      "                                                                 \n",
      " dense_2 (Dense)             (None, 128)               32896     \n",
      "                                                                 \n",
      " dropout_1 (Dropout)         (None, 128)               0         \n",
      "                                                                 \n",
      " dense_3 (Dense)             (None, 128)               16512     \n",
      "                                                                 \n",
      " dropout_2 (Dropout)         (None, 128)               0         \n",
      "                                                                 \n",
      " dense_4 (Dense)             (None, 64)                8256      \n",
      "                                                                 \n",
      " dropout_3 (Dropout)         (None, 64)                0         \n",
      "                                                                 \n",
      " dense_5 (Dense)             (None, 1)                 65        \n",
      "                                                                 \n",
      "=================================================================\n",
      "Total params: 156,545\n",
      "Trainable params: 156,545\n",
      "Non-trainable params: 0\n",
      "_________________________________________________________________\n"
     ]
    }
   ],
   "source": [
    "def init_model():\n",
    "    model = Sequential()\n",
    "    model.add(Dense(256, input_shape=(128,)))\n",
    "    model.add(Dense(256, activation=\"relu\"))\n",
    "    model.add(Dropout(0.25))\n",
    "    model.add(Dense(128, activation=\"relu\"))\n",
    "    model.add(Dropout(0.25))\n",
    "    model.add(Dense(128, activation=\"relu\"))\n",
    "    model.add(Dropout(0.25))\n",
    "    model.add(Dense(64, activation=\"relu\"))\n",
    "    model.add(Dropout(0.25))\n",
    "    model.add(Dense(1, activation=\"sigmoid\"))\n",
    "    model.compile(loss=\"binary_crossentropy\", metrics=[\"accuracy\"], optimizer=\"adam\")\n",
    "    model.summary()\n",
    "    return model\n",
    "model = init_model()"
   ]
  },
  {
   "cell_type": "code",
   "execution_count": 7,
   "id": "acbf1e68",
   "metadata": {},
   "outputs": [],
   "source": [
    "from tensorflow.keras.callbacks import ModelCheckpoint, TensorBoard, EarlyStopping\n",
    "tensorboard = TensorBoard(log_dir=\"logs\")\n",
    "early_stopping = EarlyStopping(mode=\"min\", patience=5, restore_best_weights=True)\n",
    "\n",
    "batch_size = 64\n",
    "epochs = 100"
   ]
  },
  {
   "cell_type": "code",
   "execution_count": 8,
   "id": "6f7476a9",
   "metadata": {
    "scrolled": true
   },
   "outputs": [
    {
     "name": "stdout",
     "output_type": "stream",
     "text": [
      "Epoch 1/100\n",
      "754/754 [==============================] - 5s 5ms/step - loss: 0.5166 - accuracy: 0.7892 - val_loss: 0.3664 - val_accuracy: 0.8472\n",
      "Epoch 2/100\n",
      "754/754 [==============================] - 3s 4ms/step - loss: 0.3873 - accuracy: 0.8476 - val_loss: 0.3104 - val_accuracy: 0.8825\n",
      "Epoch 3/100\n",
      "754/754 [==============================] - 3s 4ms/step - loss: 0.3594 - accuracy: 0.8600 - val_loss: 0.2913 - val_accuracy: 0.8838\n",
      "Epoch 4/100\n",
      "754/754 [==============================] - 4s 5ms/step - loss: 0.3380 - accuracy: 0.8712 - val_loss: 0.2900 - val_accuracy: 0.8891\n",
      "Epoch 5/100\n",
      "754/754 [==============================] - 4s 5ms/step - loss: 0.3247 - accuracy: 0.8743 - val_loss: 0.2654 - val_accuracy: 0.8945\n",
      "Epoch 6/100\n",
      "754/754 [==============================] - 4s 6ms/step - loss: 0.3121 - accuracy: 0.8803 - val_loss: 0.2539 - val_accuracy: 0.9042\n",
      "Epoch 7/100\n",
      "754/754 [==============================] - 3s 5ms/step - loss: 0.3036 - accuracy: 0.8849 - val_loss: 0.2707 - val_accuracy: 0.8923\n",
      "Epoch 8/100\n",
      "754/754 [==============================] - 4s 5ms/step - loss: 0.2924 - accuracy: 0.8886 - val_loss: 0.2543 - val_accuracy: 0.9087\n",
      "Epoch 9/100\n",
      "754/754 [==============================] - 4s 5ms/step - loss: 0.2900 - accuracy: 0.8886 - val_loss: 0.2873 - val_accuracy: 0.8803\n",
      "Epoch 10/100\n",
      "754/754 [==============================] - 4s 5ms/step - loss: 0.2774 - accuracy: 0.8948 - val_loss: 0.2632 - val_accuracy: 0.9057\n",
      "Epoch 11/100\n",
      "754/754 [==============================] - 3s 4ms/step - loss: 0.2724 - accuracy: 0.8971 - val_loss: 0.2348 - val_accuracy: 0.9117\n",
      "Epoch 12/100\n",
      "754/754 [==============================] - 3s 4ms/step - loss: 0.2687 - accuracy: 0.8996 - val_loss: 0.2493 - val_accuracy: 0.9063\n",
      "Epoch 13/100\n",
      "754/754 [==============================] - 3s 4ms/step - loss: 0.2730 - accuracy: 0.8980 - val_loss: 0.2494 - val_accuracy: 0.9021\n",
      "Epoch 14/100\n",
      "754/754 [==============================] - 3s 4ms/step - loss: 0.2672 - accuracy: 0.8986 - val_loss: 0.2429 - val_accuracy: 0.9126\n",
      "Epoch 15/100\n",
      "754/754 [==============================] - 3s 4ms/step - loss: 0.2567 - accuracy: 0.9033 - val_loss: 0.2241 - val_accuracy: 0.9145\n",
      "Epoch 16/100\n",
      "754/754 [==============================] - 3s 4ms/step - loss: 0.2545 - accuracy: 0.9036 - val_loss: 0.2304 - val_accuracy: 0.9148\n",
      "Epoch 17/100\n",
      "754/754 [==============================] - 3s 4ms/step - loss: 0.2514 - accuracy: 0.9045 - val_loss: 0.2222 - val_accuracy: 0.9165\n",
      "Epoch 18/100\n",
      "754/754 [==============================] - 4s 5ms/step - loss: 0.2470 - accuracy: 0.9065 - val_loss: 0.2291 - val_accuracy: 0.9186\n",
      "Epoch 19/100\n",
      "754/754 [==============================] - 3s 4ms/step - loss: 0.2520 - accuracy: 0.9053 - val_loss: 0.2326 - val_accuracy: 0.9134\n",
      "Epoch 20/100\n",
      "754/754 [==============================] - 3s 4ms/step - loss: 0.2524 - accuracy: 0.9055 - val_loss: 0.2225 - val_accuracy: 0.9132\n",
      "Epoch 21/100\n",
      "754/754 [==============================] - 3s 4ms/step - loss: 0.2431 - accuracy: 0.9095 - val_loss: 0.2232 - val_accuracy: 0.9199\n",
      "Epoch 22/100\n",
      "754/754 [==============================] - 4s 5ms/step - loss: 0.2510 - accuracy: 0.9071 - val_loss: 0.2137 - val_accuracy: 0.9191\n",
      "Epoch 23/100\n",
      "754/754 [==============================] - 4s 5ms/step - loss: 0.2451 - accuracy: 0.9089 - val_loss: 0.2196 - val_accuracy: 0.9180\n",
      "Epoch 24/100\n",
      "754/754 [==============================] - 3s 4ms/step - loss: 0.2397 - accuracy: 0.9096 - val_loss: 0.2184 - val_accuracy: 0.9212\n",
      "Epoch 25/100\n",
      "754/754 [==============================] - 3s 4ms/step - loss: 0.2375 - accuracy: 0.9122 - val_loss: 0.2108 - val_accuracy: 0.9259\n",
      "Epoch 26/100\n",
      "754/754 [==============================] - 3s 4ms/step - loss: 0.2310 - accuracy: 0.9140 - val_loss: 0.2071 - val_accuracy: 0.9238\n",
      "Epoch 27/100\n",
      "754/754 [==============================] - 4s 5ms/step - loss: 0.2354 - accuracy: 0.9118 - val_loss: 0.2140 - val_accuracy: 0.9201\n",
      "Epoch 28/100\n",
      "754/754 [==============================] - 3s 5ms/step - loss: 0.2305 - accuracy: 0.9139 - val_loss: 0.2168 - val_accuracy: 0.9193\n",
      "Epoch 29/100\n",
      "754/754 [==============================] - 3s 5ms/step - loss: 0.2287 - accuracy: 0.9147 - val_loss: 0.2132 - val_accuracy: 0.9204\n",
      "Epoch 30/100\n",
      "754/754 [==============================] - 3s 5ms/step - loss: 0.2326 - accuracy: 0.9147 - val_loss: 0.2227 - val_accuracy: 0.9167\n",
      "Epoch 31/100\n",
      "754/754 [==============================] - 4s 5ms/step - loss: 0.2273 - accuracy: 0.9152 - val_loss: 0.2123 - val_accuracy: 0.9219\n"
     ]
    },
    {
     "data": {
      "text/plain": [
       "<keras.callbacks.History at 0x21d42f08e80>"
      ]
     },
     "execution_count": 8,
     "metadata": {},
     "output_type": "execute_result"
    }
   ],
   "source": [
    "model.fit(data[\"X_train\"], data[\"y_train\"], epochs=epochs, batch_size=batch_size, validation_data=(data[\"X_valid\"], data[\"y_valid\"]),\n",
    "          callbacks=[tensorboard, early_stopping])"
   ]
  },
  {
   "cell_type": "code",
   "execution_count": 10,
   "id": "f6acd154",
   "metadata": {},
   "outputs": [
    {
     "name": "stdout",
     "output_type": "stream",
     "text": [
      "Evaluating the model using 13388 samples...\n",
      "Loss: 0.2178\n",
      "Accuracy: 91.99%\n"
     ]
    }
   ],
   "source": [
    "print(f\"Evaluating the model using {len(data['X_test'])} samples...\")\n",
    "loss, accuracy = model.evaluate(data[\"X_test\"], data[\"y_test\"], verbose=0)\n",
    "print(f\"Loss: {loss:.4f}\")\n",
    "print(f\"Accuracy: {accuracy*100:.2f}%\")"
   ]
  },
  {
   "cell_type": "code",
   "execution_count": 11,
   "id": "a9732a24",
   "metadata": {},
   "outputs": [],
   "source": [
    "model.save(\"data/model.h5\")"
   ]
  },
  {
   "cell_type": "code",
   "execution_count": null,
   "id": "229a53f2",
   "metadata": {},
   "outputs": [],
   "source": []
  },
  {
   "cell_type": "code",
   "execution_count": 46,
   "id": "2c373ba7",
   "metadata": {},
   "outputs": [],
   "source": [
    "import torch\n",
    "from torch.autograd import Variable\n",
    "import torch.nn as nn\n",
    "import torch.nn.functional as F\n",
    "import torch.optim as optim\n",
    "from torch.utils.data import Dataset, DataLoader"
   ]
  },
  {
   "cell_type": "code",
   "execution_count": 47,
   "id": "f45a29d1",
   "metadata": {},
   "outputs": [
    {
     "data": {
      "text/plain": [
       "device(type='cpu')"
      ]
     },
     "execution_count": 47,
     "metadata": {},
     "output_type": "execute_result"
    }
   ],
   "source": [
    "device=torch.device('cuda:0' if torch.cuda.is_available() else 'cpu')\n",
    "device"
   ]
  },
  {
   "cell_type": "code",
   "execution_count": 52,
   "id": "6d466163",
   "metadata": {},
   "outputs": [
    {
     "name": "stdout",
     "output_type": "stream",
     "text": [
      "Net(\n",
      "  (fc1): Linear(in_features=128, out_features=256, bias=True)\n",
      "  (fc2): Linear(in_features=256, out_features=128, bias=True)\n",
      "  (fc3): Linear(in_features=128, out_features=64, bias=True)\n",
      "  (fc4): Linear(in_features=64, out_features=1, bias=True)\n",
      "  (dropout): Dropout(p=0.25, inplace=False)\n",
      ")\n"
     ]
    }
   ],
   "source": [
    "class Net(nn.Module):\n",
    "    \n",
    "    def __init__(self):\n",
    "        super(Net, self).__init__()\n",
    "        # an affine operation: y = Wx + b\n",
    "        self.fc1 = nn.Linear(128, 256)\n",
    "        self.fc2 = nn.Linear(256, 128)\n",
    "        self.fc3 = nn.Linear(128, 64)\n",
    "        self.fc4 = nn.Linear(64, 1)\n",
    "        \n",
    "        self.dropout = nn.Dropout(0.25)\n",
    "\n",
    "    def forward(self, x):\n",
    "        x = F.leaky_relu(self.fc1(x))\n",
    "        x = self.dropout(x)\n",
    "        x = F.leaky_relu(self.fc2(x))\n",
    "        x = self.dropout(x)\n",
    "        x = F.leaky_relu(self.fc3(x))\n",
    "        x = self.dropout(x)\n",
    "        x = F.sigmoid(self.fc4(x))\n",
    "        return x\n",
    "\n",
    "net = Net().float().to(device)\n",
    "print(net)"
   ]
  }
 ],
 "metadata": {
  "kernelspec": {
   "display_name": "Python 3 (ipykernel)",
   "language": "python",
   "name": "python3"
  },
  "language_info": {
   "codemirror_mode": {
    "name": "ipython",
    "version": 3
   },
   "file_extension": ".py",
   "mimetype": "text/x-python",
   "name": "python",
   "nbconvert_exporter": "python",
   "pygments_lexer": "ipython3",
   "version": "3.8.3"
  }
 },
 "nbformat": 4,
 "nbformat_minor": 5
}
